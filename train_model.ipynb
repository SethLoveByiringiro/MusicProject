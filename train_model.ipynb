{
 "cells": [
  {
   "cell_type": "code",
   "execution_count": 2,
   "id": "62205c9a",
   "metadata": {},
   "outputs": [],
   "source": [
    "import pandas as pd\n",
    "\n",
    "from sklearn.tree import DecisionTreeClassifier\n",
    "from sklearn.svm import SVC\n",
    "from sklearn.ensemble import RandomForestClassifier\n",
    "from sklearn.metrics import accuracy_score\n",
    "from sklearn.model_selection import train_test_split\n",
    "from sklearn.linear_model import LogisticRegression\n",
    "\n"
   ]
  },
  {
   "cell_type": "code",
   "execution_count": 3,
   "id": "13917557",
   "metadata": {},
   "outputs": [
    {
     "ename": "SyntaxError",
     "evalue": "(unicode error) 'unicodeescape' codec can't decode bytes in position 2-3: truncated \\UXXXXXXXX escape (2356139480.py, line 1)",
     "output_type": "error",
     "traceback": [
      "\u001b[1;36m  Cell \u001b[1;32mIn[3], line 1\u001b[1;36m\u001b[0m\n\u001b[1;33m    data = pd.read_excel('C:\\Users\\Love Byiringiro\\Desktop\\MusicProject\\files\\musicdata.xlsx')\u001b[0m\n\u001b[1;37m                                                                                             ^\u001b[0m\n\u001b[1;31mSyntaxError\u001b[0m\u001b[1;31m:\u001b[0m (unicode error) 'unicodeescape' codec can't decode bytes in position 2-3: truncated \\UXXXXXXXX escape\n"
     ]
    }
   ],
   "source": [
    "data = pd.read_excel('C:\\Users\\Love Byiringiro\\Desktop\\MusicProject\\files\\musicdata.xlsx')"
   ]
  },
  {
   "cell_type": "code",
   "execution_count": 54,
   "id": "ed27eb4e",
   "metadata": {},
   "outputs": [
    {
     "name": "stdout",
     "output_type": "stream",
     "text": [
      "Index(['S/N', 'AGE ', 'GENDER', 'DISTRICT NUMBER', 'DISTRICT NAME', 'ARTIST '], dtype='object')\n"
     ]
    },
    {
     "data": {
      "text/html": [
       "<div>\n",
       "<style scoped>\n",
       "    .dataframe tbody tr th:only-of-type {\n",
       "        vertical-align: middle;\n",
       "    }\n",
       "\n",
       "    .dataframe tbody tr th {\n",
       "        vertical-align: top;\n",
       "    }\n",
       "\n",
       "    .dataframe thead th {\n",
       "        text-align: right;\n",
       "    }\n",
       "</style>\n",
       "<table border=\"1\" class=\"dataframe\">\n",
       "  <thead>\n",
       "    <tr style=\"text-align: right;\">\n",
       "      <th></th>\n",
       "      <th>S/N</th>\n",
       "      <th>AGE</th>\n",
       "      <th>GENDER</th>\n",
       "      <th>DISTRICT NUMBER</th>\n",
       "      <th>DISTRICT NAME</th>\n",
       "      <th>ARTIST</th>\n",
       "    </tr>\n",
       "  </thead>\n",
       "  <tbody>\n",
       "    <tr>\n",
       "      <th>0</th>\n",
       "      <td>1</td>\n",
       "      <td>12</td>\n",
       "      <td>1</td>\n",
       "      <td>21</td>\n",
       "      <td>Nyarugenge</td>\n",
       "      <td>Bushali</td>\n",
       "    </tr>\n",
       "    <tr>\n",
       "      <th>1</th>\n",
       "      <td>2</td>\n",
       "      <td>13</td>\n",
       "      <td>1</td>\n",
       "      <td>21</td>\n",
       "      <td>Nyarugenge</td>\n",
       "      <td>Bushali</td>\n",
       "    </tr>\n",
       "    <tr>\n",
       "      <th>2</th>\n",
       "      <td>3</td>\n",
       "      <td>14</td>\n",
       "      <td>1</td>\n",
       "      <td>21</td>\n",
       "      <td>Nyarugenge</td>\n",
       "      <td>Bushali</td>\n",
       "    </tr>\n",
       "    <tr>\n",
       "      <th>3</th>\n",
       "      <td>4</td>\n",
       "      <td>15</td>\n",
       "      <td>0</td>\n",
       "      <td>21</td>\n",
       "      <td>Nyarugenge</td>\n",
       "      <td>Bushali</td>\n",
       "    </tr>\n",
       "    <tr>\n",
       "      <th>4</th>\n",
       "      <td>5</td>\n",
       "      <td>16</td>\n",
       "      <td>0</td>\n",
       "      <td>21</td>\n",
       "      <td>Nyarugenge</td>\n",
       "      <td>Bushali</td>\n",
       "    </tr>\n",
       "    <tr>\n",
       "      <th>...</th>\n",
       "      <td>...</td>\n",
       "      <td>...</td>\n",
       "      <td>...</td>\n",
       "      <td>...</td>\n",
       "      <td>...</td>\n",
       "      <td>...</td>\n",
       "    </tr>\n",
       "    <tr>\n",
       "      <th>142</th>\n",
       "      <td>143</td>\n",
       "      <td>56</td>\n",
       "      <td>0</td>\n",
       "      <td>23</td>\n",
       "      <td>Gasabo</td>\n",
       "      <td>Bruce Melodie</td>\n",
       "    </tr>\n",
       "    <tr>\n",
       "      <th>143</th>\n",
       "      <td>144</td>\n",
       "      <td>57</td>\n",
       "      <td>0</td>\n",
       "      <td>23</td>\n",
       "      <td>Gasabo</td>\n",
       "      <td>Bruce Melodie</td>\n",
       "    </tr>\n",
       "    <tr>\n",
       "      <th>144</th>\n",
       "      <td>145</td>\n",
       "      <td>58</td>\n",
       "      <td>1</td>\n",
       "      <td>23</td>\n",
       "      <td>Gasabo</td>\n",
       "      <td>Bruce Melodie</td>\n",
       "    </tr>\n",
       "    <tr>\n",
       "      <th>145</th>\n",
       "      <td>146</td>\n",
       "      <td>59</td>\n",
       "      <td>1</td>\n",
       "      <td>23</td>\n",
       "      <td>Gasabo</td>\n",
       "      <td>Bruce Melodie</td>\n",
       "    </tr>\n",
       "    <tr>\n",
       "      <th>146</th>\n",
       "      <td>147</td>\n",
       "      <td>60</td>\n",
       "      <td>1</td>\n",
       "      <td>23</td>\n",
       "      <td>Gasabo</td>\n",
       "      <td>Bruce Melodie</td>\n",
       "    </tr>\n",
       "  </tbody>\n",
       "</table>\n",
       "<p>147 rows × 6 columns</p>\n",
       "</div>"
      ],
      "text/plain": [
       "     S/N  AGE   GENDER  DISTRICT NUMBER DISTRICT NAME        ARTIST \n",
       "0      1    12       1               21   Nyarugenge        Bushali \n",
       "1      2    13       1               21   Nyarugenge        Bushali \n",
       "2      3    14       1               21   Nyarugenge        Bushali \n",
       "3      4    15       0               21   Nyarugenge        Bushali \n",
       "4      5    16       0               21   Nyarugenge        Bushali \n",
       "..   ...   ...     ...              ...           ...            ...\n",
       "142  143    56       0               23        Gasabo  Bruce Melodie\n",
       "143  144    57       0               23        Gasabo  Bruce Melodie\n",
       "144  145    58       1               23        Gasabo  Bruce Melodie\n",
       "145  146    59       1               23        Gasabo  Bruce Melodie\n",
       "146  147    60       1               23        Gasabo  Bruce Melodie\n",
       "\n",
       "[147 rows x 6 columns]"
      ]
     },
     "execution_count": 54,
     "metadata": {},
     "output_type": "execute_result"
    }
   ],
   "source": [
    "print(data.columns)\n",
    "data"
   ]
  },
  {
   "cell_type": "code",
   "execution_count": 73,
   "id": "7e20e119",
   "metadata": {},
   "outputs": [],
   "source": [
    "X = data.drop(columns=['S/N','DISTRICT NAME','ARTIST '])\n",
    "\n",
    "y = data['ARTIST ']"
   ]
  },
  {
   "cell_type": "code",
   "execution_count": 64,
   "id": "c176dd53",
   "metadata": {},
   "outputs": [
    {
     "name": "stdout",
     "output_type": "stream",
     "text": [
      "Data Splitted successfully!!!\n"
     ]
    }
   ],
   "source": [
    "X_train, X_test, y_train, y_test = train_test_split(X, y, test_size=0.3)\n",
    "\n",
    "print(\"Data Splitted successfully!!!\")"
   ]
  },
  {
   "cell_type": "code",
   "execution_count": 74,
   "id": "eb24540c",
   "metadata": {},
   "outputs": [],
   "source": [
    "# Create the 3 models\n",
    "\n",
    "decisionTreeModel = DecisionTreeClassifier()\n",
    "svmModel = SVC(kernel='linear')\n",
    "randomForestModel = RandomForestClassifier(n_estimators=100)\n",
    "logisticRegressionModel = LogisticRegression()"
   ]
  },
  {
   "cell_type": "code",
   "execution_count": 76,
   "id": "44b65ebc",
   "metadata": {},
   "outputs": [
    {
     "name": "stdout",
     "output_type": "stream",
     "text": [
      "Models fitted succesfully!!!\n"
     ]
    },
    {
     "name": "stderr",
     "output_type": "stream",
     "text": [
      "/home/ezechielwill/anaconda3/lib/python3.11/site-packages/sklearn/linear_model/_logistic.py:460: ConvergenceWarning: lbfgs failed to converge (status=1):\n",
      "STOP: TOTAL NO. of ITERATIONS REACHED LIMIT.\n",
      "\n",
      "Increase the number of iterations (max_iter) or scale the data as shown in:\n",
      "    https://scikit-learn.org/stable/modules/preprocessing.html\n",
      "Please also refer to the documentation for alternative solver options:\n",
      "    https://scikit-learn.org/stable/modules/linear_model.html#logistic-regression\n",
      "  n_iter_i = _check_optimize_result(\n"
     ]
    }
   ],
   "source": [
    "# Fitting the models\n",
    "decisionTreeModel.fit(X_train, y_train)\n",
    "svmModel.fit(X_train, y_train)\n",
    "randomForestModel.fit(X_train, y_train)\n",
    "logisticRegressionModel.fit(X_train, y_train)\n",
    "\n",
    "print(\"Models fitted succesfully!!!\")"
   ]
  },
  {
   "cell_type": "code",
   "execution_count": 90,
   "id": "ab4493f9",
   "metadata": {},
   "outputs": [
    {
     "name": "stdout",
     "output_type": "stream",
     "text": [
      "The accuracy Decision Tree:  95.55555555555556  %\n",
      "The accuracy Support Vector M:  95.55555555555556  %\n",
      "The accuracy Random Forest:  95.55555555555556  %\n",
      "The accuracy Logistic Reg.:  35.55555555555556  %\n"
     ]
    }
   ],
   "source": [
    "# Predict\n",
    "DTpred = decisionTreeModel.predict(X_test)\n",
    "svmPred = svmModel.predict(X_test)\n",
    "RFpred = randomForestModel.predict(X_test)\n",
    "LRpred = logisticRegressionModel.predict(X_test)\n",
    "\n",
    "# boy = [[40, 0, 21]]\n",
    "# DTpred = decisionTreeModel.predict(boy)\n",
    "\n",
    "\n",
    "# print(DTpred[0])\n",
    "\n",
    "# check accuracy\n",
    "scoreDT = accuracy_score(y_test, DTpred)\n",
    "scoreSvm = accuracy_score(y_test, svmPred)\n",
    "scoreRF = accuracy_score(y_test, RFpred)\n",
    "scoreLR = accuracy_score(y_test, LRpred)\n",
    "\n",
    "print(\"The accuracy Decision Tree: \", scoreDT*100,\" %\")\n",
    "print(\"The accuracy Support Vector M: \", scoreSvm*100, \" %\")\n",
    "print(\"The accuracy Random Forest: \", scoreRF*100, \" %\")\n",
    "print(\"The accuracy Logistic Reg.: \", scoreLR*100, \" %\")\n"
   ]
  },
  {
   "cell_type": "code",
   "execution_count": 91,
   "id": "d35adfe7",
   "metadata": {},
   "outputs": [
    {
     "name": "stdout",
     "output_type": "stream",
     "text": [
      "Models saved successfully\n"
     ]
    }
   ],
   "source": [
    "import joblib\n",
    "\n",
    "joblib.dump(decisionTreeModel, 'Decision.joblib')\n",
    "joblib.dump(svmModel, 'svm.joblib')\n",
    "joblib.dump(randomForestModel, 'randomForest.joblib')\n",
    "joblib.dump(logisticRegressionModel, 'logistic.joblib')\n",
    "print(\"Models saved successfully\")"
   ]
  }
 ],
 "metadata": {
  "kernelspec": {
   "display_name": "Python 3 (ipykernel)",
   "language": "python",
   "name": "python3"
  },
  "language_info": {
   "codemirror_mode": {
    "name": "ipython",
    "version": 3
   },
   "file_extension": ".py",
   "mimetype": "text/x-python",
   "name": "python",
   "nbconvert_exporter": "python",
   "pygments_lexer": "ipython3",
   "version": "3.11.5"
  }
 },
 "nbformat": 4,
 "nbformat_minor": 5
}
